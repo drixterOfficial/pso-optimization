{
 "cells": [
  {
   "cell_type": "code",
   "execution_count": 1,
   "id": "81449445",
   "metadata": {},
   "outputs": [],
   "source": [
    "import os\n",
    "os.environ['TF_CPP_MIN_LOG_LEVEL'] = '3' \n",
    "\n",
    "import pandas as pd \n",
    "import numpy as np\n",
    "\n",
    "import matplotlib.pyplot as plt\n",
    "import seaborn as sns\n",
    "\n",
    "from tqdm import tqdm\n",
    "import random\n",
    "\n",
    "from sklearn.model_selection import train_test_split\n",
    "from keras.models import Sequential\n",
    "from keras.layers import LSTM, Dense\n",
    "from sklearn.preprocessing import MinMaxScaler\n",
    "\n",
    "from sklearn.metrics import mean_squared_error\n",
    "from sklearn.model_selection import train_test_split\n",
    "from sklearn.metrics import r2_score\n",
    "\n",
    "import tensorflow as tf\n",
    "from tensorflow.keras.models import Sequential\n",
    "from tensorflow.keras.callbacks import EarlyStopping, ModelCheckpoint\n",
    "from tensorflow.keras.layers import LSTM, Dense, Dropout, Activation, Bidirectional\n",
    "from tensorflow.keras.optimizers import Adam \n",
    "\n",
    "from sklearn.metrics import r2_score, mean_absolute_error, root_mean_squared_error, mean_squared_error\n",
    "from tensorflow.keras.optimizers import SGD, RMSprop, Adagrad, Adadelta, Adam, Adamax, Nadam\n",
    "\n",
    "import datetime\n",
    "\n",
    "import warnings\n",
    "warnings.filterwarnings('ignore')\n",
    "\n",
    "from mealpy import FloatVar, IntegerVar,PermutationVar, Problem,MixedSetVar\n",
    "from mealpy.swarm_based.GWO import OriginalGWO\n",
    "from mealpy import PSO\n",
    "from datetime import datetime\n",
    "from mealpy import Problem, FloatVar, BBO "
   ]
  },
  {
   "cell_type": "code",
   "execution_count": 2,
   "id": "be76b622",
   "metadata": {},
   "outputs": [],
   "source": [
    "def create_dataset(dataset, lookback=1):\n",
    "    X, y = [], []\n",
    "    for i in range(len(dataset) - lookback):\n",
    "        sample = dataset[i:(i + lookback)]\n",
    "        X.append(sample)\n",
    "        y.append(dataset[i + lookback])\n",
    "    return np.array(X), np.array(y)"
   ]
  },
  {
   "cell_type": "code",
   "execution_count": 3,
   "id": "a11ae123",
   "metadata": {},
   "outputs": [
    {
     "name": "stdout",
     "output_type": "stream",
     "text": [
      "Shape of Train Set: (26447, 6)\n",
      "Shape of Valid Set: (8760, 6)\n",
      "Shape of Test Set: (7897, 6)\n"
     ]
    },
    {
     "name": "stderr",
     "output_type": "stream",
     "text": [
      "100%|██████████| 26328/26328 [00:03<00:00, 8169.66it/s]\n",
      "100%|██████████| 8641/8641 [00:00<00:00, 9286.63it/s]\n",
      "100%|██████████| 7778/7778 [00:00<00:00, 9354.21it/s]\n"
     ]
    }
   ],
   "source": [
    "df = pd.read_csv('hourly_res_data.csv').drop(['6-MF3MCLCBAT107', '6-MF3MCLCBAT108'], axis=1)\n",
    "\n",
    "cols = list(df.columns[1:-1])\n",
    "scaler = MinMaxScaler()\n",
    "df[cols] = scaler.fit_transform(df[cols])\n",
    "\n",
    "df_train = df[df['year'] <= 2021]\n",
    "df_valid = df[df['year'] == 2022]\n",
    "df_test = df[df['year'] == 2023]\n",
    "\n",
    "df_train = df_train.drop(['DateTime', 'year'], axis=1)\n",
    "df_valid = df_valid.drop(['DateTime', 'year'], axis=1)\n",
    "df_test = df_test.drop(['DateTime', 'year'], axis=1)\n",
    "\n",
    "print(f'Shape of Train Set: {df_train.shape}')\n",
    "print(f'Shape of Valid Set: {df_valid.shape}')\n",
    "print(f'Shape of Test Set: {df_test.shape}')\n",
    "\n",
    "SEQUENCE_SIZE = 96\n",
    "target_window = 24\n",
    "\n",
    "def create_sequence(sequence_length, target_window, scaled_data):\n",
    "    target_column_name = '1-MF3MCLCBAT101'\n",
    "    target_column_index = list(scaled_data.columns).index(target_column_name)\n",
    "    x = []\n",
    "    y = []\n",
    "    for i in tqdm(range(len(scaled_data) - sequence_length - target_window + 1)):\n",
    "        sequence = scaled_data.iloc[i:i+sequence_length, :].values\n",
    "        target = scaled_data.iloc[i+sequence_length:i+sequence_length+target_window, \n",
    "                                  target_column_index].values\n",
    "        x.append(sequence)\n",
    "        y.append(target)\n",
    "    return np.array(x), np.array(y)\n",
    "\n",
    "X_train, y_train = create_sequence(SEQUENCE_SIZE, target_window, df_train)\n",
    "X_val, y_val = create_sequence(SEQUENCE_SIZE, target_window, df_valid)\n",
    "X_test, y_test = create_sequence(SEQUENCE_SIZE, target_window, df_test)"
   ]
  },
  {
   "cell_type": "code",
   "execution_count": 4,
   "id": "5545c5e9",
   "metadata": {},
   "outputs": [],
   "source": [
    "def model_training_architecture(lr,batch_sz,opt):\n",
    "    model = Sequential()\n",
    "    model.add(Bidirectional(LSTM(256), input_shape=X_train.shape[1:]))  \n",
    "    model.add(Dense(24))\n",
    "\n",
    "    if opt == 'adam':\n",
    "        model_opt = Adam(learning_rate=lr)\n",
    "    elif opt == 'sgd':\n",
    "        model_opt = SGD(learning_rate=lr)\n",
    "    else:\n",
    "        model_opt = RMSprop(learning_rate=lr)\n",
    "      \n",
    "    model.compile(loss='mse', optimizer=model_opt)\n",
    "\n",
    "      \n",
    "    early_stopping = EarlyStopping(monitor='val_loss', patience=5, verbose=1, restore_best_weights=True)\n",
    "\n",
    "    print('Model training ....')\n",
    "    history = model.fit(X_train, y_train,verbose = False,\n",
    "                        epochs=100, batch_size=batch_sz,\n",
    "                        validation_data=(X_val, y_val),\n",
    "                        callbacks=[early_stopping])\n",
    "    \n",
    "    model_evaluation = model.evaluate(X_test, y_test)\n",
    "    print('Model eval ....')\n",
    "    y_pred = model.predict(X_test)\n",
    "    \n",
    "    rsme_val = root_mean_squared_error(y_test, y_pred)\n",
    "    print(rsme_val)\n",
    "    \n",
    "    return rsme_val"
   ]
  },
  {
   "cell_type": "code",
   "execution_count": 5,
   "id": "04806b5c-fa44-4fc2-ab75-13bbd1a100d0",
   "metadata": {},
   "outputs": [],
   "source": [
    "class MyProblem(Problem):\n",
    "    def __init__(self, bounds=None, minmax=\"min\", name=\"ml\",date_time_str =\"date\", data=None,opt='opt', **kwargs):\n",
    "        self.name = name\n",
    "        self.data = data\n",
    "        self.opt = opt\n",
    "        super().__init__(bounds, minmax, **kwargs)\n",
    "        \n",
    "    def obj_func(self,x):\n",
    "        x = self.decode_solution(x)\n",
    "        lr = x[\"lr\"]\n",
    "        batch_sz = x[\"batch_sz\"]\n",
    "        opt = x[\"opt\"]\n",
    "        print([lr,batch_sz,opt])\n",
    "        return model_training_architecture(lr,batch_sz,opt)"
   ]
  },
  {
   "cell_type": "code",
   "execution_count": null,
   "id": "08e82e75-d1f3-4ab5-bfe4-9223695fc7c9",
   "metadata": {
    "scrolled": true,
    "vscode": {
     "languageId": "plaintext"
    }
   },
   "outputs": [],
   "source": [
    "now = datetime.now()\n",
    "date_time_str = now.strftime(\"%Hh_%d_%m_%Y\")\n",
    "\n",
    "\n",
    "bound =  [MixedSetVar(valid_sets=(0.005,0.001,0.0005,0.0001), name=\"lr\"),\n",
    "          MixedSetVar(valid_sets=(16,32,64,128), name=\"batch_sz\"),\n",
    "          MixedSetVar(valid_sets=('adam', 'sdg','rmsprop'), name=\"opt\")\n",
    "         ]\n",
    "epoch = 10\n",
    "pop_size = 10\n",
    "\n",
    "problem = MyProblem(bounds=bound, minmax=\"min\", name=\"ml\",data= None, opt = \"pso\", \n",
    "                log_to=\"file\", log_file=f\"pos-results_single_{date_time_str}.txt\")\n",
    "pso= PSO.OriginalPSO(epoch, pop_size)\n",
    "p_best = pso.solve(problem)\n",
    "print(f\"Solution: {p_best}\")"
   ]
  },
  {
   "cell_type": "code",
   "execution_count": null,
   "id": "8da4dfa8-e35b-404f-90eb-e2025bc9771a",
   "metadata": {},
   "outputs": [],
   "source": []
  }
 ],
 "metadata": {
  "kernelspec": {
   "display_name": "Python 3 (ipykernel)",
   "language": "python",
   "name": "python3"
  },
  "language_info": {
   "codemirror_mode": {
    "name": "ipython",
    "version": 3
   },
   "file_extension": ".py",
   "mimetype": "text/x-python",
   "name": "python",
   "nbconvert_exporter": "python",
   "pygments_lexer": "ipython3",
   "version": "3.9.12"
  }
 },
 "nbformat": 4,
 "nbformat_minor": 5
}
